{
  "nbformat": 4,
  "nbformat_minor": 0,
  "metadata": {
    "colab": {
      "provenance": [],
      "machine_shape": "hm",
      "gpuType": "L4",
      "include_colab_link": true
    },
    "kernelspec": {
      "name": "python3",
      "display_name": "Python 3"
    },
    "language_info": {
      "name": "python"
    },
    "accelerator": "GPU"
  },
  "cells": [
    {
      "cell_type": "markdown",
      "metadata": {
        "id": "view-in-github",
        "colab_type": "text"
      },
      "source": [
        "<a href=\"https://colab.research.google.com/github/idanstark42/double-tau-detection-network/blob/master/notebooks/double_tau_detection_network_merge_x3.ipynb\" target=\"_parent\"><img src=\"https://colab.research.google.com/assets/colab-badge.svg\" alt=\"Open In Colab\"/></a>"
      ]
    },
    {
      "cell_type": "code",
      "source": [
        "!git clone https://github.com/idanstark42/double-tau-detection-network.git\n",
        "!mkdir ./double-tau-detection-network/data"
      ],
      "metadata": {
        "colab": {
          "base_uri": "https://localhost:8080/"
        },
        "id": "2H0wwOSg5XD3",
        "outputId": "d78eb91f-30f4-480f-82df-f3e78f57278c"
      },
      "execution_count": null,
      "outputs": [
        {
          "output_type": "stream",
          "name": "stdout",
          "text": [
            "Cloning into 'double-tau-detection-network'...\n",
            "remote: Enumerating objects: 1160, done.\u001b[K\n",
            "remote: Counting objects: 100% (181/181), done.\u001b[K\n",
            "remote: Compressing objects: 100% (70/70), done.\u001b[K\n",
            "remote: Total 1160 (delta 131), reused 159 (delta 111), pack-reused 979 (from 1)\u001b[K\n",
            "Receiving objects: 100% (1160/1160), 55.53 MiB | 16.42 MiB/s, done.\n",
            "Resolving deltas: 100% (700/700), done.\n"
          ]
        }
      ]
    },
    {
      "cell_type": "code",
      "source": [
        "!pip3 install pylorentz dropblock progress h5py"
      ],
      "metadata": {
        "colab": {
          "base_uri": "https://localhost:8080/"
        },
        "id": "3UKyJ6SG5gSY",
        "outputId": "f4644d7c-43a0-4458-d163-4cc73a0528fd"
      },
      "execution_count": null,
      "outputs": [
        {
          "output_type": "stream",
          "name": "stdout",
          "text": [
            "Collecting pylorentz\n",
            "  Downloading pylorentz-0.3.3.tar.gz (12 kB)\n",
            "  Preparing metadata (setup.py) ... \u001b[?25l\u001b[?25hdone\n",
            "Collecting dropblock\n",
            "  Downloading dropblock-0.3.0-py3-none-any.whl.metadata (4.2 kB)\n",
            "Collecting progress\n",
            "  Downloading progress-1.6.tar.gz (7.8 kB)\n",
            "  Preparing metadata (setup.py) ... \u001b[?25l\u001b[?25hdone\n",
            "Requirement already satisfied: h5py in /usr/local/lib/python3.10/dist-packages (3.12.1)\n",
            "Requirement already satisfied: numpy in /usr/local/lib/python3.10/dist-packages (from pylorentz) (1.26.4)\n",
            "Requirement already satisfied: torch>=0.4.1 in /usr/local/lib/python3.10/dist-packages (from dropblock) (2.5.0+cu121)\n",
            "Requirement already satisfied: filelock in /usr/local/lib/python3.10/dist-packages (from torch>=0.4.1->dropblock) (3.16.1)\n",
            "Requirement already satisfied: typing-extensions>=4.8.0 in /usr/local/lib/python3.10/dist-packages (from torch>=0.4.1->dropblock) (4.12.2)\n",
            "Requirement already satisfied: networkx in /usr/local/lib/python3.10/dist-packages (from torch>=0.4.1->dropblock) (3.4.2)\n",
            "Requirement already satisfied: jinja2 in /usr/local/lib/python3.10/dist-packages (from torch>=0.4.1->dropblock) (3.1.4)\n",
            "Requirement already satisfied: fsspec in /usr/local/lib/python3.10/dist-packages (from torch>=0.4.1->dropblock) (2024.10.0)\n",
            "Requirement already satisfied: sympy==1.13.1 in /usr/local/lib/python3.10/dist-packages (from torch>=0.4.1->dropblock) (1.13.1)\n",
            "Requirement already satisfied: mpmath<1.4,>=1.1.0 in /usr/local/lib/python3.10/dist-packages (from sympy==1.13.1->torch>=0.4.1->dropblock) (1.3.0)\n",
            "Requirement already satisfied: MarkupSafe>=2.0 in /usr/local/lib/python3.10/dist-packages (from jinja2->torch>=0.4.1->dropblock) (3.0.2)\n",
            "Downloading dropblock-0.3.0-py3-none-any.whl (5.4 kB)\n",
            "Building wheels for collected packages: pylorentz, progress\n",
            "  Building wheel for pylorentz (setup.py) ... \u001b[?25l\u001b[?25hdone\n",
            "  Created wheel for pylorentz: filename=pylorentz-0.3.3-py3-none-any.whl size=12084 sha256=9bfba9861845ddd9dee9927a222e100fdb6eb1339322c5d7e30148740a0e9e1d\n",
            "  Stored in directory: /root/.cache/pip/wheels/ec/8c/e8/b87f17eae26931058525533e2641e351203f95110d94f985cc\n",
            "  Building wheel for progress (setup.py) ... \u001b[?25l\u001b[?25hdone\n",
            "  Created wheel for progress: filename=progress-1.6-py3-none-any.whl size=9613 sha256=411a9e37f0db1e465f4956150aee351d4ead36be6187d9ed85c56b87bf8699a7\n",
            "  Stored in directory: /root/.cache/pip/wheels/a2/68/5f/c339b20a41659d856c93ccdce6a33095493eb82c3964aac5a1\n",
            "Successfully built pylorentz progress\n",
            "Installing collected packages: progress, pylorentz, dropblock\n",
            "Successfully installed dropblock-0.3.0 progress-1.6 pylorentz-0.3.3\n"
          ]
        }
      ]
    },
    {
      "cell_type": "code",
      "execution_count": null,
      "metadata": {
        "colab": {
          "base_uri": "https://localhost:8080/"
        },
        "id": "ZmykqVT2l6eg",
        "outputId": "e7723f0f-ef81-4e4c-b368-d17f75ce0644"
      },
      "outputs": [
        {
          "output_type": "stream",
          "name": "stdout",
          "text": [
            "Mounted at /content/drive\n"
          ]
        }
      ],
      "source": [
        "from google.colab import drive\n",
        "drive.mount('/content/drive',force_remount=True)"
      ]
    },
    {
      "cell_type": "code",
      "source": [
        "!mv /content/drive/MyDrive/DataSets/mx20_x3.h5 /content/double-tau-detection-network/data/mx20_x3.h5"
      ],
      "metadata": {
        "id": "izT4p4Xl1UM4"
      },
      "execution_count": null,
      "outputs": []
    },
    {
      "cell_type": "markdown",
      "source": [],
      "metadata": {
        "id": "tW5U1JQK0bBP"
      }
    },
    {
      "cell_type": "code",
      "source": [
        "!mv /content/drive/MyDrive/DataSets/mx30_x3.h5 /content/double-tau-detection-network/data/mx30_x3.h5"
      ],
      "metadata": {
        "id": "hVyomC6ISlZn"
      },
      "execution_count": null,
      "outputs": []
    },
    {
      "cell_type": "code",
      "source": [
        "!mv /content/drive/MyDrive/DataSets/mx40_x3.h5 /content/double-tau-detection-network/data/mx40_x3.h5"
      ],
      "metadata": {
        "id": "wNoCj3O4Snt8"
      },
      "execution_count": null,
      "outputs": []
    },
    {
      "cell_type": "code",
      "source": [
        "!mv /content/drive/MyDrive/DataSets/mx50_x3.h5 /content/double-tau-detection-network/data/mx50_x3.h5"
      ],
      "metadata": {
        "id": "XLpFnW8dSnIa"
      },
      "execution_count": null,
      "outputs": []
    },
    {
      "cell_type": "code",
      "source": [
        "!mv /content/drive/MyDrive/DataSets/mx60_x3.h5 /content/double-tau-detection-network/data/mx60_x3.h5"
      ],
      "metadata": {
        "id": "o8uAYHA5Smvx"
      },
      "execution_count": null,
      "outputs": []
    },
    {
      "cell_type": "code",
      "source": [
        "!cd double-tau-detection-network/ && git pull\n",
        "!python double-tau-detection-network/src/taus.py merge src=mx20_x3 output=merged_x3\n",
        "!rm /content/double-tau-detection-network/data/mx20_x3.h5"
      ],
      "metadata": {
        "id": "X-GraNIZBcfE",
        "colab": {
          "base_uri": "https://localhost:8080/"
        },
        "outputId": "b7818e3c-ae71-4196-9545-ef5a6900e008"
      },
      "execution_count": null,
      "outputs": [
        {
          "output_type": "stream",
          "name": "stdout",
          "text": [
            "Already up to date.\n",
            "Merging 1 files into /content/double-tau-detection-network/data/merged_x3.h5\n",
            "Creating output file from /content/double-tau-detection-network/data/mx20_x3.h5\n",
            "Dropping 32496 invalid events (2.33%)\n",
            "Merging complete\n"
          ]
        }
      ]
    },
    {
      "cell_type": "code",
      "source": [
        "!python double-tau-detection-network/src/taus.py merge src=mx30_x3 output=merged_x3 create=false\n",
        "!rm /content/double-tau-detection-network/data/mx30_x3.h5"
      ],
      "metadata": {
        "colab": {
          "base_uri": "https://localhost:8080/"
        },
        "id": "QXMsmHLm3dcu",
        "outputId": "a6ee7502-baf6-40f0-c78b-1e8168e23d17"
      },
      "execution_count": null,
      "outputs": [
        {
          "output_type": "stream",
          "name": "stdout",
          "text": [
            "Merging 1 files into /content/double-tau-detection-network/data/merged_x3.h5\n",
            "Appending /content/double-tau-detection-network/data/mx30_x3.h5\n",
            "Dropping 38548 invalid events (2.64%)\n",
            "Merging complete\n"
          ]
        }
      ]
    },
    {
      "cell_type": "code",
      "source": [
        "!python double-tau-detection-network/src/taus.py merge src=mx40_x3 output=merged_x3 create=false\n",
        "!rm /content/double-tau-detection-network/data/mx40_x3.h5"
      ],
      "metadata": {
        "colab": {
          "base_uri": "https://localhost:8080/"
        },
        "id": "FJOy3NdX3eAR",
        "outputId": "49de9969-f1f5-4c5c-89d0-0ef0d6ed19e3"
      },
      "execution_count": null,
      "outputs": [
        {
          "output_type": "stream",
          "name": "stdout",
          "text": [
            "Merging 1 files into /content/double-tau-detection-network/data/merged_x3.h5\n",
            "Appending /content/double-tau-detection-network/data/mx40_x3.h5\n",
            "Dropping 40266 invalid events (2.70%)\n",
            "Merging complete\n"
          ]
        }
      ]
    },
    {
      "cell_type": "code",
      "source": [
        "!python double-tau-detection-network/src/taus.py merge src=mx50_x3 output=merged_x3 create=false\n",
        "!rm /content/double-tau-detection-network/data/mx50_x3.h5"
      ],
      "metadata": {
        "colab": {
          "base_uri": "https://localhost:8080/"
        },
        "id": "PNRDeQcM3lgp",
        "outputId": "bd8a5f6e-2f1d-408e-d54b-0fc0fd41590a"
      },
      "execution_count": null,
      "outputs": [
        {
          "output_type": "stream",
          "name": "stdout",
          "text": [
            "Merging 1 files into /content/double-tau-detection-network/data/merged_x3.h5\n",
            "Appending /content/double-tau-detection-network/data/mx50_x3.h5\n",
            "Dropping 42798 invalid events (2.92%)\n",
            "Merging complete\n"
          ]
        }
      ]
    },
    {
      "cell_type": "code",
      "source": [
        "!python double-tau-detection-network/src/taus.py merge src=mx60_x3 output=merged_x3 create=false\n",
        "!rm /content/double-tau-detection-network/data/mx60_x3.h5"
      ],
      "metadata": {
        "colab": {
          "base_uri": "https://localhost:8080/"
        },
        "id": "fAagFHJ13lUW",
        "outputId": "b1892ba9-3224-4294-a065-a41babac901a"
      },
      "execution_count": null,
      "outputs": [
        {
          "output_type": "stream",
          "name": "stdout",
          "text": [
            "Merging 1 files into /content/double-tau-detection-network/data/merged_x3.h5\n",
            "Appending /content/double-tau-detection-network/data/mx60_x3.h5\n",
            "Dropping 45180 invalid events (3.08%)\n",
            "Merging complete\n"
          ]
        }
      ]
    },
    {
      "cell_type": "code",
      "source": [
        "!mv /content/double-tau-detection-network/data/merged_x3.h5 /content/drive/MyDrive/DataSets/merged_x3.h5"
      ],
      "metadata": {
        "id": "TFUhS-pmTDhs"
      },
      "execution_count": null,
      "outputs": []
    }
  ]
}