{
  "nbformat": 4,
  "nbformat_minor": 0,
  "metadata": {
    "colab": {
      "provenance": [],
      "machine_shape": "hm",
      "gpuType": "L4",
      "include_colab_link": true
    },
    "kernelspec": {
      "name": "python3",
      "display_name": "Python 3"
    },
    "language_info": {
      "name": "python"
    },
    "accelerator": "GPU"
  },
  "cells": [
    {
      "cell_type": "markdown",
      "metadata": {
        "id": "view-in-github",
        "colab_type": "text"
      },
      "source": [
        "<a href=\"https://colab.research.google.com/github/idanstark42/double-tau-detection-network/blob/master/notebooks/double_tau_detection_network_augment_mx30.ipynb\" target=\"_parent\"><img src=\"https://colab.research.google.com/assets/colab-badge.svg\" alt=\"Open In Colab\"/></a>"
      ]
    },
    {
      "cell_type": "code",
      "source": [
        "!git clone https://github.com/idanstark42/double-tau-detection-network.git\n",
        "!mkdir ./double-tau-detection-network/data"
      ],
      "metadata": {
        "colab": {
          "base_uri": "https://localhost:8080/"
        },
        "id": "2H0wwOSg5XD3",
        "outputId": "86fd541d-c465-458b-9b78-ad78d4ee0746"
      },
      "execution_count": null,
      "outputs": [
        {
          "output_type": "stream",
          "name": "stdout",
          "text": [
            "Cloning into 'double-tau-detection-network'...\n",
            "remote: Enumerating objects: 1139, done.\u001b[K\n",
            "remote: Counting objects: 100% (160/160), done.\u001b[K\n",
            "remote: Compressing objects: 100% (58/58), done.\u001b[K\n",
            "remote: Total 1139 (delta 115), reused 145 (delta 102), pack-reused 979 (from 1)\u001b[K\n",
            "Receiving objects: 100% (1139/1139), 55.53 MiB | 16.45 MiB/s, done.\n",
            "Resolving deltas: 100% (684/684), done.\n"
          ]
        }
      ]
    },
    {
      "cell_type": "code",
      "source": [
        "!pip3 install pylorentz dropblock progress h5py"
      ],
      "metadata": {
        "colab": {
          "base_uri": "https://localhost:8080/"
        },
        "id": "3UKyJ6SG5gSY",
        "outputId": "5f7c3477-f0a9-4cfd-f12d-21b42247c0b1"
      },
      "execution_count": null,
      "outputs": [
        {
          "output_type": "stream",
          "name": "stdout",
          "text": [
            "Collecting pylorentz\n",
            "  Downloading pylorentz-0.3.3.tar.gz (12 kB)\n",
            "  Preparing metadata (setup.py) ... \u001b[?25l\u001b[?25hdone\n",
            "Collecting dropblock\n",
            "  Downloading dropblock-0.3.0-py3-none-any.whl.metadata (4.2 kB)\n",
            "Collecting progress\n",
            "  Downloading progress-1.6.tar.gz (7.8 kB)\n",
            "  Preparing metadata (setup.py) ... \u001b[?25l\u001b[?25hdone\n",
            "Requirement already satisfied: h5py in /usr/local/lib/python3.10/dist-packages (3.11.0)\n",
            "Requirement already satisfied: numpy in /usr/local/lib/python3.10/dist-packages (from pylorentz) (1.26.4)\n",
            "Requirement already satisfied: torch>=0.4.1 in /usr/local/lib/python3.10/dist-packages (from dropblock) (2.5.0+cu121)\n",
            "Requirement already satisfied: filelock in /usr/local/lib/python3.10/dist-packages (from torch>=0.4.1->dropblock) (3.16.1)\n",
            "Requirement already satisfied: typing-extensions>=4.8.0 in /usr/local/lib/python3.10/dist-packages (from torch>=0.4.1->dropblock) (4.12.2)\n",
            "Requirement already satisfied: networkx in /usr/local/lib/python3.10/dist-packages (from torch>=0.4.1->dropblock) (3.4.2)\n",
            "Requirement already satisfied: jinja2 in /usr/local/lib/python3.10/dist-packages (from torch>=0.4.1->dropblock) (3.1.4)\n",
            "Requirement already satisfied: fsspec in /usr/local/lib/python3.10/dist-packages (from torch>=0.4.1->dropblock) (2024.6.1)\n",
            "Requirement already satisfied: sympy==1.13.1 in /usr/local/lib/python3.10/dist-packages (from torch>=0.4.1->dropblock) (1.13.1)\n",
            "Requirement already satisfied: mpmath<1.4,>=1.1.0 in /usr/local/lib/python3.10/dist-packages (from sympy==1.13.1->torch>=0.4.1->dropblock) (1.3.0)\n",
            "Requirement already satisfied: MarkupSafe>=2.0 in /usr/local/lib/python3.10/dist-packages (from jinja2->torch>=0.4.1->dropblock) (3.0.2)\n",
            "Downloading dropblock-0.3.0-py3-none-any.whl (5.4 kB)\n",
            "Building wheels for collected packages: pylorentz, progress\n",
            "  Building wheel for pylorentz (setup.py) ... \u001b[?25l\u001b[?25hdone\n",
            "  Created wheel for pylorentz: filename=pylorentz-0.3.3-py3-none-any.whl size=12084 sha256=51325859323e8a54ca764f7362ccc74a962c2e920577e3f4280424cbc109731a\n",
            "  Stored in directory: /root/.cache/pip/wheels/ec/8c/e8/b87f17eae26931058525533e2641e351203f95110d94f985cc\n",
            "  Building wheel for progress (setup.py) ... \u001b[?25l\u001b[?25hdone\n",
            "  Created wheel for progress: filename=progress-1.6-py3-none-any.whl size=9613 sha256=dfd69aaf08dbb6024b31a8c628e9671164c80e117d10db9ef6eacec2d25f44f5\n",
            "  Stored in directory: /root/.cache/pip/wheels/a2/68/5f/c339b20a41659d856c93ccdce6a33095493eb82c3964aac5a1\n",
            "Successfully built pylorentz progress\n",
            "Installing collected packages: progress, pylorentz, dropblock\n",
            "Successfully installed dropblock-0.3.0 progress-1.6 pylorentz-0.3.3\n"
          ]
        }
      ]
    },
    {
      "cell_type": "code",
      "execution_count": null,
      "metadata": {
        "colab": {
          "base_uri": "https://localhost:8080/"
        },
        "id": "ZmykqVT2l6eg",
        "outputId": "dbe31b04-2de4-4802-b34c-6e3d0e92fb8e"
      },
      "outputs": [
        {
          "output_type": "stream",
          "name": "stdout",
          "text": [
            "Mounted at /content/drive\n"
          ]
        }
      ],
      "source": [
        "from google.colab import drive\n",
        "drive.mount('/content/drive',force_remount=True)"
      ]
    },
    {
      "cell_type": "code",
      "source": [
        "!mv /content/drive/MyDrive/DataSets/mx30.h5 /content/double-tau-detection-network/data/mx30.h5"
      ],
      "metadata": {
        "id": "izT4p4Xl1UM4"
      },
      "execution_count": null,
      "outputs": []
    },
    {
      "cell_type": "markdown",
      "source": [],
      "metadata": {
        "id": "tW5U1JQK0bBP"
      }
    },
    {
      "cell_type": "code",
      "source": [
        "!cd double-tau-detection-network/ && git pull\n",
        "!python double-tau-detection-network/src/taus.py proliferate src=mx30 factor=3\n",
        "!mv /content/double-tau-detection-network/data/mx30_x3.h5 /content/drive/MyDrive/DataSets/mx30_x3.h5"
      ],
      "metadata": {
        "id": "X-GraNIZBcfE",
        "colab": {
          "base_uri": "https://localhost:8080/"
        },
        "outputId": "9bcdc9d4-ab22-4842-fb0c-2fad8c118c19"
      },
      "execution_count": null,
      "outputs": [
        {
          "output_type": "stream",
          "name": "stdout",
          "text": [
            "Already up to date.\n",
            "Proliferating.\n",
            "Initializing output file\n",
            "Creating dataset for clusters\n",
            "Created dataset for clusters in 02:42\n",
            "Creating dataset for event\n",
            "Created dataset for event in 00:00\n",
            "Creating dataset for tracks\n",
            "Created dataset for tracks in 03:21\n",
            "Creating dataset for truthTaus\n",
            "Created dataset for truthTaus in 00:01\n",
            "Initialized output file in 06:04\n",
            "creating chunks\n",
            "chunks created\n",
            "Creating shared keys\n",
            "Creating shared flips and rotations\n",
            "Generating copies\n",
            " |██████████████████████████▎     | 401/488 [82.2%] 37:39   "
          ]
        }
      ]
    }
  ]
}